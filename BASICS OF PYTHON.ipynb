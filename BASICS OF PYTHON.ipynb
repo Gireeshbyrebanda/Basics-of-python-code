{
 "cells": [
  {
   "cell_type": "markdown",
   "id": "b5736889-e111-429b-a12d-af5e28ac63cb",
   "metadata": {},
   "source": [
    "#### Prime Numbers"
   ]
  },
  {
   "cell_type": "code",
   "execution_count": 3,
   "id": "30575c65-8bfa-485a-9477-6b6ba1b7f75f",
   "metadata": {},
   "outputs": [
    {
     "name": "stdout",
     "output_type": "stream",
     "text": [
      "17 is a prime number.\n"
     ]
    }
   ],
   "source": [
    "def is_prime(number):\n",
    "    if number <= 1:\n",
    "        return False\n",
    "    for i in range(2, int(number**0.5) + 1):\n",
    "        if number % i == 0:\n",
    "            return False\n",
    "    return True\n",
    "# Test the function\n",
    "num = 17\n",
    "if is_prime(num):\n",
    "    print(f\"{num} is a prime number.\")\n",
    "else:\n",
    "    print(f\"{num} is not a prime number.\")"
   ]
  },
  {
   "cell_type": "markdown",
   "id": "65bd0c74-1f52-457b-a081-48a72f77060c",
   "metadata": {},
   "source": [
    "#### Product of Random Numbers"
   ]
  },
  {
   "cell_type": "code",
   "execution_count": 6,
   "id": "95746fc8-3801-4706-a4f2-889e4a2471f6",
   "metadata": {},
   "outputs": [
    {
     "name": "stdout",
     "output_type": "stream",
     "text": [
      "2\n"
     ]
    }
   ],
   "source": [
    "# Program to generate a random number between 0 and 5\n",
    "\n",
    "# importing the random module\n",
    "import random\n",
    "\n",
    "print(random.randint(0,5))"
   ]
  },
  {
   "cell_type": "markdown",
   "id": "6a05cb9d-b713-4325-af8d-13195fed7741",
   "metadata": {},
   "source": [
    "#### Squares of Even/Odd Numbers"
   ]
  },
  {
   "cell_type": "code",
   "execution_count": 7,
   "id": "ac22f999-72a5-4f91-8c96-e27f357e8b82",
   "metadata": {},
   "outputs": [
    {
     "name": "stdout",
     "output_type": "stream",
     "text": [
      "Squares of even numbers within the range of 100 to 200:\n",
      "100 squared is 10000\n",
      "102 squared is 10404\n",
      "104 squared is 10816\n",
      "106 squared is 11236\n",
      "108 squared is 11664\n",
      "110 squared is 12100\n",
      "112 squared is 12544\n",
      "114 squared is 12996\n",
      "116 squared is 13456\n",
      "118 squared is 13924\n",
      "120 squared is 14400\n",
      "122 squared is 14884\n",
      "124 squared is 15376\n",
      "126 squared is 15876\n",
      "128 squared is 16384\n",
      "130 squared is 16900\n",
      "132 squared is 17424\n",
      "134 squared is 17956\n",
      "136 squared is 18496\n",
      "138 squared is 19044\n",
      "140 squared is 19600\n",
      "142 squared is 20164\n",
      "144 squared is 20736\n",
      "146 squared is 21316\n",
      "148 squared is 21904\n",
      "150 squared is 22500\n",
      "152 squared is 23104\n",
      "154 squared is 23716\n",
      "156 squared is 24336\n",
      "158 squared is 24964\n",
      "160 squared is 25600\n",
      "162 squared is 26244\n",
      "164 squared is 26896\n",
      "166 squared is 27556\n",
      "168 squared is 28224\n",
      "170 squared is 28900\n",
      "172 squared is 29584\n",
      "174 squared is 30276\n",
      "176 squared is 30976\n",
      "178 squared is 31684\n",
      "180 squared is 32400\n",
      "182 squared is 33124\n",
      "184 squared is 33856\n",
      "186 squared is 34596\n",
      "188 squared is 35344\n",
      "190 squared is 36100\n",
      "192 squared is 36864\n",
      "194 squared is 37636\n",
      "196 squared is 38416\n",
      "198 squared is 39204\n",
      "200 squared is 40000\n"
     ]
    }
   ],
   "source": [
    "def main():\n",
    "    print(\"Squares of even numbers within the range of 100 to 200:\")\n",
    "    for num in range(100, 201):\n",
    "        if num % 2 == 0:  # Choosing even numbers\n",
    "            print(f\"{num} squared is {num**2}\")\n",
    "\n",
    "if __name__ == \"__main__\":\n",
    "    main()"
   ]
  },
  {
   "cell_type": "markdown",
   "id": "5e887a12-2bd9-4c01-b894-d0c739906844",
   "metadata": {},
   "source": [
    "#### Word Counter"
   ]
  },
  {
   "cell_type": "code",
   "execution_count": 8,
   "id": "e6071856-2805-4487-baa7-2cc3e11dc1a0",
   "metadata": {},
   "outputs": [
    {
     "name": "stdout",
     "output_type": "stream",
     "text": [
      "Word count:\n",
      "'this': 2\n",
      "'is': 1\n",
      "'a': 1\n",
      "'sample': 1\n",
      "'text': 2\n",
      "'will': 1\n",
      "'be': 1\n",
      "'used': 1\n",
      "'to': 1\n",
      "'demonstrate': 1\n",
      "'the': 1\n",
      "'word': 1\n",
      "'counter': 1\n"
     ]
    }
   ],
   "source": [
    "def count_words(text):\n",
    "    words = text.split()\n",
    "    word_count = {}\n",
    "\n",
    "    for word in words:\n",
    "        # Removing punctuation marks like period, comma, etc.\n",
    "        word = word.strip(\".,!?:;'\\\"\")\n",
    "\n",
    "        # Converting word to lowercase to handle case-insensitive counts\n",
    "        word = word.lower()\n",
    "\n",
    "        if word in word_count:\n",
    "            word_count[word] += 1\n",
    "        else:\n",
    "            word_count[word] = 1\n",
    "\n",
    "    return word_count\n",
    "\n",
    "def main():\n",
    "    input_text = \"This is a sample text. This text will be used to demonstrate the word counter.\"\n",
    "    word_count = count_words(input_text)\n",
    "\n",
    "    print(\"Word count:\")\n",
    "    for word, count in word_count.items():\n",
    "        print(f\"'{word}': {count}\")\n",
    "\n",
    "if __name__ == \"__main__\":\n",
    "    main()"
   ]
  },
  {
   "cell_type": "markdown",
   "id": "3dbf9050-fd4a-46a4-a83f-9b7c64b6e635",
   "metadata": {},
   "source": [
    "#### Check For Palindrome"
   ]
  },
  {
   "cell_type": "code",
   "execution_count": 10,
   "id": "0c66e937-0f4d-43b8-ae28-b60bc63c2bcd",
   "metadata": {},
   "outputs": [
    {
     "name": "stdout",
     "output_type": "stream",
     "text": [
      "True\n"
     ]
    }
   ],
   "source": [
    "def is_palindrome(s):\n",
    "    # Removing spaces and punctuation and converting to lowercase\n",
    "    clean_s = ''.join(char.lower() for char in s if char.isalnum())\n",
    "\n",
    "    # Checking if the cleaned string is equal to its reverse\n",
    "    return clean_s == clean_s[::-1]\n",
    "\n",
    "# Example usage:\n",
    "input_string = \"racecar\"\n",
    "print(is_palindrome(input_string))  # Output: T"
   ]
  },
  {
   "cell_type": "code",
   "execution_count": null,
   "id": "dd0548c9-61d2-43ec-8bab-ee0cab1e9465",
   "metadata": {},
   "outputs": [],
   "source": []
  }
 ],
 "metadata": {
  "kernelspec": {
   "display_name": "Python 3 (ipykernel)",
   "language": "python",
   "name": "python3"
  },
  "language_info": {
   "codemirror_mode": {
    "name": "ipython",
    "version": 3
   },
   "file_extension": ".py",
   "mimetype": "text/x-python",
   "name": "python",
   "nbconvert_exporter": "python",
   "pygments_lexer": "ipython3",
   "version": "3.11.7"
  }
 },
 "nbformat": 4,
 "nbformat_minor": 5
}
